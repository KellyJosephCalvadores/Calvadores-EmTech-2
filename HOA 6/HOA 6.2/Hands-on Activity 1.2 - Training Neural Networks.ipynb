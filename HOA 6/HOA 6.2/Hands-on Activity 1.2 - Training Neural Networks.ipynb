{
 "cells": [
  {
   "cell_type": "markdown",
   "id": "union-alcohol",
   "metadata": {},
   "source": [
    "# Activity 1.2 : Training Neural Networks\n"
   ]
  },
  {
   "cell_type": "markdown",
   "id": "floppy-teens",
   "metadata": {},
   "source": [
    "#### Objective(s):\n",
    "\n",
    "This activity aims to demonstrate how to train neural networks using keras"
   ]
  },
  {
   "cell_type": "markdown",
   "id": "engaged-modem",
   "metadata": {},
   "source": [
    "#### Intended Learning Outcomes (ILOs):\n",
    "* Demonstrate how to build and train neural networks \n",
    "* Demonstrate how to evaluate and plot the model using training and validation loss\n"
   ]
  },
  {
   "cell_type": "markdown",
   "id": "structured-april",
   "metadata": {},
   "source": [
    "#### Resources:\n",
    "* Jupyter Notebook\n",
    "\n",
    "CI Pima Diabetes Dataset\n",
    "\n",
    "* pima-indians-diabetes.csv\n"
   ]
  },
  {
   "cell_type": "markdown",
   "id": "cutting-fountain",
   "metadata": {},
   "source": [
    "#### Procedures"
   ]
  },
  {
   "cell_type": "markdown",
   "id": "entertaining-therapist",
   "metadata": {},
   "source": [
    "Load the necessary libraries "
   ]
  },
  {
   "cell_type": "code",
   "execution_count": null,
   "id": "differential-native",
   "metadata": {},
   "outputs": [],
   "source": [
    "import numpy as np\n",
    "import pandas as pd\n",
    "import matplotlib.pyplot as plt\n",
    "\n",
    "from sklearn.model_selection import train_test_split\n",
    "from sklearn.preprocessing import StandardScaler\n",
    "from sklearn.metrics import confusion_matrix, precision_recall_curve, roc_auc_score, roc_curve, accuracy_score\n",
    "from sklearn.ensemble import RandomForestClassifier\n",
    "\n",
    "import seaborn as sns\n",
    "\n",
    "%matplotlib inline"
   ]
  },
  {
   "cell_type": "code",
   "execution_count": null,
   "id": "other-married",
   "metadata": {},
   "outputs": [],
   "source": [
    "## Import Keras objects for Deep Learning\n",
    "\n",
    "from keras.models  import Sequential\n",
    "from keras.layers import Input, Dense, Flatten, Dropout, BatchNormalization\n",
    "from keras.optimizers import Adam, SGD, RMSprop"
   ]
  },
  {
   "cell_type": "markdown",
   "id": "mexican-newsletter",
   "metadata": {},
   "source": [
    "Load the dataset"
   ]
  },
  {
   "cell_type": "code",
   "execution_count": null,
   "id": "studied-twelve",
   "metadata": {},
   "outputs": [],
   "source": [
    "\n",
    "filepath = \"pima-indians-diabetes.csv\"\n",
    "names = [\"times_pregnant\", \"glucose_tolerance_test\", \"blood_pressure\", \"skin_thickness\", \"insulin\", \n",
    "         \"bmi\", \"pedigree_function\", \"age\", \"has_diabetes\"]\n",
    "diabetes_df = pd.read_csv(filepath, names=names)"
   ]
  },
  {
   "cell_type": "markdown",
   "id": "photographic-carnival",
   "metadata": {},
   "source": [
    "Check the top 5 samples of the data"
   ]
  },
  {
   "cell_type": "code",
   "execution_count": null,
   "id": "undefined-inventory",
   "metadata": {},
   "outputs": [],
   "source": [
    "\n",
    "print(diabetes_df.shape)\n",
    "diabetes_df.sample(5)"
   ]
  },
  {
   "cell_type": "code",
   "execution_count": null,
   "id": "systematic-motorcycle",
   "metadata": {},
   "outputs": [],
   "source": [
    "diabetes_df.dtypes"
   ]
  },
  {
   "cell_type": "code",
   "execution_count": null,
   "id": "collected-lafayette",
   "metadata": {},
   "outputs": [],
   "source": [
    "X = diabetes_df.iloc[:, :-1].values\n",
    "y = diabetes_df[\"has_diabetes\"].values"
   ]
  },
  {
   "cell_type": "markdown",
   "id": "acquired-parallel",
   "metadata": {},
   "source": [
    "Split the data to Train, and Test (75%, 25%)"
   ]
  },
  {
   "cell_type": "code",
   "execution_count": null,
   "id": "rational-hollow",
   "metadata": {},
   "outputs": [],
   "source": [
    "X_train, X_test, y_train, y_test = train_test_split(X, y, test_size=0.25, random_state=11111)"
   ]
  },
  {
   "cell_type": "code",
   "execution_count": null,
   "id": "acceptable-equity",
   "metadata": {},
   "outputs": [],
   "source": [
    "np.mean(y), np.mean(1-y)"
   ]
  },
  {
   "cell_type": "markdown",
   "id": "thick-reconstruction",
   "metadata": {},
   "source": [
    "Build a single hidden layer neural network using 12 nodes. \n",
    "Use the sequential model with single layer network and input shape to 8. \n",
    "\n"
   ]
  },
  {
   "cell_type": "markdown",
   "id": "dramatic-zealand",
   "metadata": {},
   "source": [
    "Normalize the data"
   ]
  },
  {
   "cell_type": "code",
   "execution_count": null,
   "id": "painted-mathematics",
   "metadata": {},
   "outputs": [],
   "source": [
    "normalizer = StandardScaler()\n",
    "X_train_norm = normalizer.fit_transform(X_train)\n",
    "X_test_norm = normalizer.transform(X_test)"
   ]
  },
  {
   "cell_type": "markdown",
   "id": "previous-electricity",
   "metadata": {},
   "source": [
    "Define the model:\n",
    "* Input size is 8-dimensional\n",
    "* 1 hidden layer, 12 hidden nodes, sigmoid activation \n",
    "* Final layer with one node and sigmoid activation (standard for binary classification)"
   ]
  },
  {
   "cell_type": "code",
   "execution_count": null,
   "id": "found-bowling",
   "metadata": {},
   "outputs": [],
   "source": [
    "\n",
    "\n",
    "model  = Sequential([\n",
    "    Dense(12, input_shape=(8,), activation=\"relu\"),\n",
    "    Dense(1, activation=\"sigmoid\")\n",
    "])"
   ]
  },
  {
   "cell_type": "markdown",
   "id": "level-terminal",
   "metadata": {},
   "source": [
    "View the model summary "
   ]
  },
  {
   "cell_type": "code",
   "execution_count": null,
   "id": "correct-kingdom",
   "metadata": {},
   "outputs": [],
   "source": [
    "\n",
    "model.summary()"
   ]
  },
  {
   "cell_type": "markdown",
   "id": "herbal-anderson",
   "metadata": {},
   "source": [
    "Train the model \n",
    "* Compile the model with optimizer, loss function and metrics\n",
    "* Use the fit function to return the run history. \n"
   ]
  },
  {
   "cell_type": "code",
   "execution_count": null,
   "id": "happy-prompt",
   "metadata": {},
   "outputs": [],
   "source": [
    "\n",
    "model.compile(SGD(lr = .003), \"binary_crossentropy\", metrics=[\"accuracy\"])\n",
    "run_hist_1 = model.fit(X_train_norm, y_train, validation_data=(X_test_norm, y_test), epochs=200)\n"
   ]
  },
  {
   "cell_type": "code",
   "execution_count": null,
   "id": "unsigned-nevada",
   "metadata": {},
   "outputs": [],
   "source": [
    "## Like we did for the Random Forest, we generate two kinds of predictions\n",
    "#  One is a hard decision, the other is a probabilitistic score.\n",
    "\n",
    "y_pred_class_nn_1 = model_1.predict_classes(X_test_norm)\n",
    "y_pred_prob_nn_1 = model_1.predict(X_test_norm)"
   ]
  },
  {
   "cell_type": "code",
   "execution_count": null,
   "id": "tough-catering",
   "metadata": {},
   "outputs": [],
   "source": [
    "# Let's check out the outputs to get a feel for how keras apis work.\n",
    "y_pred_class_nn_1[:10]"
   ]
  },
  {
   "cell_type": "code",
   "execution_count": null,
   "id": "combined-zimbabwe",
   "metadata": {},
   "outputs": [],
   "source": [
    "y_pred_prob_nn_1[:10]"
   ]
  },
  {
   "cell_type": "markdown",
   "id": "going-estonia",
   "metadata": {},
   "source": [
    "Create the plot_roc function"
   ]
  },
  {
   "cell_type": "code",
   "execution_count": null,
   "id": "supposed-moderator",
   "metadata": {},
   "outputs": [],
   "source": [
    "def plot_roc(y_test, y_pred, model_name):\n",
    "    fpr, tpr, thr = roc_curve(y_test, y_pred)\n",
    "    fig, ax = plt.subplots(figsize=(8, 8))\n",
    "    ax.plot(fpr, tpr, 'k-')\n",
    "    ax.plot([0, 1], [0, 1], 'k--', linewidth=.5)  # roc curve for random model\n",
    "    ax.grid(True)\n",
    "    ax.set(title='ROC Curve for {} on PIMA diabetes problem'.format(model_name),\n",
    "           xlim=[-0.01, 1.01], ylim=[-0.01, 1.01])\n",
    "\n"
   ]
  },
  {
   "cell_type": "markdown",
   "id": "second-festival",
   "metadata": {},
   "source": [
    "Evaluate the model performance and plot the ROC CURVE"
   ]
  },
  {
   "cell_type": "code",
   "execution_count": null,
   "id": "eleven-nebraska",
   "metadata": {},
   "outputs": [],
   "source": [
    "\n",
    "print('accuracy is {:.3f}'.format(accuracy_score(y_test,y_pred_class_nn_1)))\n",
    "print('roc-auc is {:.3f}'.format(roc_auc_score(y_test,y_pred_prob_nn_1)))\n",
    "\n",
    "plot_roc(y_test, y_pred_prob_nn_1, 'NN')"
   ]
  },
  {
   "cell_type": "markdown",
   "id": "invalid-nevada",
   "metadata": {},
   "source": [
    " Plot the training loss and the validation loss over the different epochs and see how it looks"
   ]
  },
  {
   "cell_type": "code",
   "execution_count": null,
   "id": "hidden-physics",
   "metadata": {},
   "outputs": [],
   "source": [
    "run_hist_1.history.keys()"
   ]
  },
  {
   "cell_type": "code",
   "execution_count": null,
   "id": "banned-spider",
   "metadata": {},
   "outputs": [],
   "source": [
    "fig, ax = plt.subplots()\n",
    "ax.plot(run_hist_1.history[\"loss\"],'r', marker='.', label=\"Train Loss\")\n",
    "ax.plot(run_hist_1.history[\"val_loss\"],'b', marker='.', label=\"Validation Loss\")\n",
    "ax.legend()"
   ]
  },
  {
   "cell_type": "markdown",
   "id": "superb-circus",
   "metadata": {},
   "source": [
    "What is your interpretation about the result of the train and validation loss?"
   ]
  },
  {
   "cell_type": "markdown",
   "id": "german-cherry",
   "metadata": {},
   "source": [
    "#type your answer here"
   ]
  },
  {
   "cell_type": "markdown",
   "id": "involved-slovak",
   "metadata": {},
   "source": [
    "#### Supplementary Activity"
   ]
  },
  {
   "cell_type": "markdown",
   "id": "pending-publisher",
   "metadata": {},
   "source": [
    "* Build a model with two hidden layers, each with 6 nodes\n",
    "* Use the \"relu\" activation function for the hidden layers, and \"sigmoid\" for the final layer\n",
    "* Use a learning rate of .003 and train for 1500 epochs\n",
    "* Graph the trajectory of the loss functions, accuracy on both train and test set\n",
    "* Plot the roc curve for the predictions\n",
    "* Use different learning rates, numbers of epochs, and network structures. \n",
    "* Plot the results of training and validation loss using different learning rates, number of epocgs and network structures\n",
    "* Interpret your result"
   ]
  },
  {
   "cell_type": "markdown",
   "id": "intimate-factory",
   "metadata": {},
   "source": [
    "#### Conclusion"
   ]
  },
  {
   "cell_type": "markdown",
   "id": "broad-appointment",
   "metadata": {},
   "source": [
    "#type your answer here"
   ]
  }
 ],
 "metadata": {
  "kernelspec": {
   "display_name": "Python 3",
   "language": "python",
   "name": "python3"
  },
  "language_info": {
   "codemirror_mode": {
    "name": "ipython",
    "version": 3
   },
   "file_extension": ".py",
   "mimetype": "text/x-python",
   "name": "python",
   "nbconvert_exporter": "python",
   "pygments_lexer": "ipython3",
   "version": "3.7.10"
  }
 },
 "nbformat": 4,
 "nbformat_minor": 5
}
